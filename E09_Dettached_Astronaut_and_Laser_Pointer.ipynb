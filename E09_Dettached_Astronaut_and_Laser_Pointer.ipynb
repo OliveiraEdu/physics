{
  "nbformat": 4,
  "nbformat_minor": 0,
  "metadata": {
    "colab": {
      "name": "E09 - Dettached Astronaut and Laser Pointer.ipynb",
      "provenance": [],
      "authorship_tag": "ABX9TyM/cJsEkuXxlzWptMQhBx5s",
      "include_colab_link": true
    },
    "kernelspec": {
      "name": "python3",
      "display_name": "Python 3"
    }
  },
  "cells": [
    {
      "cell_type": "markdown",
      "metadata": {
        "id": "view-in-github",
        "colab_type": "text"
      },
      "source": [
        "<a href=\"https://colab.research.google.com/github/OliveiraEdu/physics/blob/master/E09_Dettached_Astronaut_and_Laser_Pointer.ipynb\" target=\"_parent\"><img src=\"https://colab.research.google.com/assets/colab-badge.svg\" alt=\"Open In Colab\"/></a>"
      ]
    },
    {
      "cell_type": "code",
      "metadata": {
        "id": "DHHgQgVVpnFz"
      },
      "source": [
        "#Eduardo Oliveira\n",
        "#Física UFSC\n",
        "#FSC5101 - E09\n",
        "#01-12-2020\n",
        "\n",
        "#All units in IS\n",
        "\n",
        "v0_CenterOfMass = 0\n",
        "m_Astronaut = 60\n",
        "m_Laser = 0.300\n",
        "v_Laser = 12.00 #Just after the Astronaut throwing the laser pointer"
      ],
      "execution_count": 4,
      "outputs": []
    },
    {
      "cell_type": "markdown",
      "metadata": {
        "id": "2bMWgv0DrKl2"
      },
      "source": [
        "Velocity of the astronaut relative to the spacecraft"
      ]
    },
    {
      "cell_type": "code",
      "metadata": {
        "colab": {
          "base_uri": "https://localhost:8080/"
        },
        "id": "jfT7xC4xrLCh",
        "outputId": "30ad3371-9fd6-485a-be5b-5db000b23f27"
      },
      "source": [
        "v_Astronaut = -m_Laser*v_Laser/m_Astronaut\n",
        "print (v_Astronaut, \"ms-1\")\n",
        "print (v_Astronaut-v0_CenterOfMass, \"ms-1\")"
      ],
      "execution_count": 5,
      "outputs": [
        {
          "output_type": "stream",
          "text": [
            "-0.05999999999999999 ms-1\n",
            "-0.05999999999999999 ms-1\n"
          ],
          "name": "stdout"
        }
      ]
    },
    {
      "cell_type": "markdown",
      "metadata": {
        "id": "DSW8tRaKrHA6"
      },
      "source": [
        "Velocity of the laser pointer relative to the spacecraft"
      ]
    },
    {
      "cell_type": "code",
      "metadata": {
        "colab": {
          "base_uri": "https://localhost:8080/"
        },
        "id": "OyaFaht0rHnz",
        "outputId": "418f948a-4313-44dd-ac69-77ea99e9d039"
      },
      "source": [
        "v_Laser = -m_Astronaut*v_Astronaut/m_Laser\n",
        "print (v_Laser,\"ms-1\")\n",
        "print (v_Laser+v0_CenterOfMass, \"ms-1\")"
      ],
      "execution_count": 9,
      "outputs": [
        {
          "output_type": "stream",
          "text": [
            "12.0 ms-1\n",
            "12.0 ms-1\n"
          ],
          "name": "stdout"
        }
      ]
    },
    {
      "cell_type": "markdown",
      "metadata": {
        "id": "ejjs_eL9snpo"
      },
      "source": [
        "b) Time for the astronaut to reach the spacecraft."
      ]
    },
    {
      "cell_type": "code",
      "metadata": {
        "colab": {
          "base_uri": "https://localhost:8080/"
        },
        "id": "_llXPZNxsy0i",
        "outputId": "52291c50-3ede-482e-c793-226ca02e15a7"
      },
      "source": [
        "d = 10\n",
        "t = d * v_Astronaut\n",
        "\n",
        "print (t, \"s\")"
      ],
      "execution_count": 7,
      "outputs": [
        {
          "output_type": "stream",
          "text": [
            "-0.5999999999999999 s\n"
          ],
          "name": "stdout"
        }
      ]
    },
    {
      "cell_type": "markdown",
      "metadata": {
        "id": "_Cq927mTtaKv"
      },
      "source": [
        "c) Velocity of the center of mass (astronaut + laser), considering a reference frame located on the spacecraft."
      ]
    },
    {
      "cell_type": "code",
      "metadata": {
        "colab": {
          "base_uri": "https://localhost:8080/"
        },
        "id": "4J2_-3mnuERv",
        "outputId": "bb5c772f-10ef-4376-d700-4094d16d29b7"
      },
      "source": [
        "vcm = (m_Astronaut * v_Astronaut) + (m_Laser*v_Laser) / (m_Astronaut+m_Laser)\n",
        "print (vcm,\"ms-1\")"
      ],
      "execution_count": 8,
      "outputs": [
        {
          "output_type": "stream",
          "text": [
            "-3.540595529813618 ms-1\n"
          ],
          "name": "stdout"
        }
      ]
    }
  ]
}