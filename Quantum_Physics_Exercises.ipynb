{
  "nbformat": 4,
  "nbformat_minor": 0,
  "metadata": {
    "colab": {
      "name": "Quantum Physics Exercises.ipynb",
      "provenance": [],
      "authorship_tag": "ABX9TyOCzSjwb+Bm9gB+GoUBTIfn",
      "include_colab_link": true
    },
    "kernelspec": {
      "name": "python3",
      "display_name": "Python 3"
    },
    "language_info": {
      "name": "python"
    }
  },
  "cells": [
    {
      "cell_type": "markdown",
      "metadata": {
        "id": "view-in-github",
        "colab_type": "text"
      },
      "source": [
        "<a href=\"https://colab.research.google.com/github/OliveiraEdu/physics/blob/master/Quantum_Physics_Exercises.ipynb\" target=\"_parent\"><img src=\"https://colab.research.google.com/assets/colab-badge.svg\" alt=\"Open In Colab\"/></a>"
      ]
    },
    {
      "cell_type": "code",
      "metadata": {
        "id": "AwfE_-XuLRAX"
      },
      "source": [
        "#import numpy as np\n",
        "#import math\n",
        "\n",
        "from decimal import Decimal"
      ],
      "execution_count": 6,
      "outputs": []
    },
    {
      "cell_type": "markdown",
      "metadata": {
        "id": "AVKkVSq3VrtJ"
      },
      "source": [
        "Exercício 1 - Pág.97"
      ]
    },
    {
      "cell_type": "markdown",
      "metadata": {
        "id": "SyBjl2EPRgaM"
      },
      "source": [
        "A temperatura da camada externa do Sol é cerca de $5.800 K$. Mostre que, no modelo do corpo negro, a potência total por ele emitida, por unidade de área, vale $P_{sol} = 6,47.10^7W/m^2$"
      ]
    },
    {
      "cell_type": "code",
      "metadata": {
        "id": "PZACvuwuQRK_"
      },
      "source": [
        "stefan = 5.67E-8 #Stefan constant\n",
        "\n",
        "cw = 5.9E10 #experimental value for the proportionality constant"
      ],
      "execution_count": 7,
      "outputs": []
    },
    {
      "cell_type": "markdown",
      "metadata": {
        "id": "qg1BfZJ2VOkk"
      },
      "source": [
        "Dado que o Sol possui raio aproximadamente igual a $7,0.10^8 m$  e dista da Terra por cerca de $1,5.10^{11}m$, estime a potência recebida do Sol por um\n",
        "centímetro quadrado da nossa pele."
      ]
    },
    {
      "cell_type": "code",
      "metadata": {
        "colab": {
          "base_uri": "https://localhost:8080/"
        },
        "id": "Sj5k4F1OfIqX",
        "outputId": "9c2aef83-5249-4850-91a1-b2f372ff356a"
      },
      "source": [
        "t1 = 5800 #Object 1 temperature in Kelvin degrees\n",
        "r1 = 7.0E8 #Object 1 radius in meters\n",
        "d12 = 1.5E11 #Distance between object 1 and object 2 in meters \n",
        "\n",
        "\n",
        "print (\"Meters\")\n",
        "#Power emmited by object 1\n",
        "p1 = stefan*t1**4 #Stefan-Boltzmann Law\n",
        "\n",
        "#Result\n",
        "notacaoCientifica = '%.2E' % Decimal(p1)\n",
        "print (\"Object 1 Power = \",notacaoCientifica,\"W/m**2\")\n",
        "\n",
        "#Power received by object 2\n",
        "p2 = p1 * (r1/d12)**2\n",
        "\n",
        "#Result\n",
        "notacaoCientifica = '%.2E' % Decimal(p2)\n",
        "print (\"Object 2 Power = \",notacaoCientifica,\"W/m**2\")\n",
        "\n",
        "print (\"Centimeters\")\n",
        "\n",
        "#Power received by object 2\n",
        "p2 = p1 * (r1/d12)**2*1E-4\n",
        "\n",
        "#Result\n",
        "notacaoCientifica = '%.2E' % Decimal(p2)\n",
        "print (\"Object 2 Power = \",notacaoCientifica,\"W/cm**2\")\n",
        "\n",
        "\n",
        "\n",
        "vmax = cw*t1\n",
        "\n",
        "#Result\n",
        "notacaoCientifica = '%.2E' % Decimal(vmax)\n",
        "print (\"Maximum Freq = \",notacaoCientifica,\"Hz\")"
      ],
      "execution_count": 8,
      "outputs": [
        {
          "output_type": "stream",
          "text": [
            "Meters\n",
            "Object 1 Power =  6.42E+07 W/m**2\n",
            "Object 2 Power =  1.40E+03 W/m**2\n",
            "Centimeters\n",
            "Object 2 Power =  1.40E-01 W/cm**2\n",
            "Maximum Freq =  3.42E+14 Hz\n"
          ],
          "name": "stdout"
        }
      ]
    },
    {
      "cell_type": "markdown",
      "metadata": {
        "id": "7IXL3H90LVYm"
      },
      "source": [
        ""
      ]
    },
    {
      "cell_type": "markdown",
      "metadata": {
        "id": "Zo5dbUK8XEwN"
      },
      "source": [
        "Para comparação, considere uma brasa de temperatura igual a $800 K$. Tratando-a como um corpo negro, mostre que ela emite uma potência total, por unidade de área, igual a $P_{brasa} = 2,3.10^4 W/m^2$ .\n",
        "Idealizando a brasa como uma esfera de raio igual a $2,0 cm$ ,\n",
        "estime a potência recebida por um centímetro quadrado da pele de\n",
        "uma pessoa que está a $50cm$ da brasa."
      ]
    },
    {
      "cell_type": "code",
      "metadata": {
        "colab": {
          "base_uri": "https://localhost:8080/"
        },
        "id": "mw_TVGPWy3iR",
        "outputId": "912a12e6-f42b-4e10-f659-e4d8b8fb5cfe"
      },
      "source": [
        "t1 = 800 #Object 1 temperature in Kelvin degrees\n",
        "r1 = 0.02 #Object 1 radius in meters\n",
        "d12 = 0.5 #Distance between object 1 and object 2 in meters\n",
        "\n",
        "print (\"Meters\")\n",
        "#Power emmited by object 1\n",
        "p1 = stefan*t1**4 #Stefan-Boltzmann Law\n",
        "\n",
        "#Result\n",
        "notacaoCientifica = '%.2E' % Decimal(p1)\n",
        "print (\"Object 1 Power = \",notacaoCientifica,\"W/m**2\")\n",
        "\n",
        "#Power received by object 2\n",
        "p2 = p1 * (r1/d12)**2\n",
        "\n",
        "#Result\n",
        "notacaoCientifica = '%.2E' % Decimal(p2)\n",
        "print (\"Object 2 Power = \",notacaoCientifica,\"W/m**2\")\n",
        "\n",
        "print (\"Centimeters\")\n",
        "\n",
        "#Power received by object 2\n",
        "p2 = p1 * (r1/d12)**2*1E-4\n",
        "\n",
        "#Resultado\n",
        "notacaoCientifica = '%.2E' % Decimal(p2)\n",
        "print (\"Object 2 Power = \",notacaoCientifica,\"W/cm**2\")\n",
        "\n",
        "vmax = cw*t1\n",
        "\n",
        "#Result\n",
        "notacaoCientifica = '%.2E' % Decimal(vmax)\n",
        "print (\"Maximum Freq = \",notacaoCientifica,\"Hz\")"
      ],
      "execution_count": 9,
      "outputs": [
        {
          "output_type": "stream",
          "text": [
            "Meters\n",
            "Object 1 Power =  2.32E+04 W/m**2\n",
            "Object 2 Power =  3.72E+01 W/m**2\n",
            "Centimeters\n",
            "Object 2 Power =  3.72E-03 W/cm**2\n",
            "Maximum Freq =  4.72E+13 Hz\n"
          ],
          "name": "stdout"
        }
      ]
    }
  ]
}