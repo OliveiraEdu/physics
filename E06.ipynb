{
  "nbformat": 4,
  "nbformat_minor": 0,
  "metadata": {
    "colab": {
      "name": "E06.ipynb",
      "provenance": [],
      "authorship_tag": "ABX9TyPlV3LqDmAcpl/rll0swms6",
      "include_colab_link": true
    },
    "kernelspec": {
      "name": "python3",
      "display_name": "Python 3"
    }
  },
  "cells": [
    {
      "cell_type": "markdown",
      "metadata": {
        "id": "view-in-github",
        "colab_type": "text"
      },
      "source": [
        "<a href=\"https://colab.research.google.com/github/OliveiraEdu/physics/blob/master/E06.ipynb\" target=\"_parent\"><img src=\"https://colab.research.google.com/assets/colab-badge.svg\" alt=\"Open In Colab\"/></a>"
      ]
    },
    {
      "cell_type": "code",
      "metadata": {
        "id": "A3zxpFFnrSEz",
        "outputId": "f1cb29e2-fa1a-4b3c-dfa2-d789dc71e7d2",
        "colab": {
          "base_uri": "https://localhost:8080/",
          "height": 101
        }
      },
      "source": [
        "#Eduardo Oliveira\n",
        "#Física UFSC\n",
        "#FSC5101 - E06\n",
        "#27-10-2020\n",
        "\n",
        "import numpy as np \n",
        "\n",
        "\n",
        "acceleration = 3.75\n",
        "t = 10\n",
        "\n",
        "a = np.array([-2, 2, 0]) \n",
        "b = np.array([5, -3, 0]) \n",
        "c = np.array([-45, 0, 0])\n",
        "resultantVector = a + b + c \n",
        "\n",
        "print(\"resultant vector:\", resultantVector, \"N\") \n",
        "\n",
        "vectorMag = np.linalg.norm(resultantVector)\n",
        "\n",
        "print(\"magnitude of the resultant vector:\", vectorMag, \"N\")\n",
        "\n",
        "mass = vectorMag/acceleration \n",
        "\n",
        "print (\"mass:\", mass, \"kg\")\n",
        "\n",
        "acceleration_i = resultantVector[0]/mass\n",
        "acceleration_j = resultantVector[1]/mass\n",
        "\n",
        "speed_i=acceleration_i*t\n",
        "speed_j=acceleration_j*t\n",
        "\n",
        "print (\"speed in the i direction:\", speed_i, \"ms-1\")\n",
        "print (\"speed in the j direction:\", speed_j, \"ms-1\")\n",
        "\n"
      ],
      "execution_count": 11,
      "outputs": [
        {
          "output_type": "stream",
          "text": [
            "resultant vector: [-42  -1   0] N\n",
            "magnitude of the resultant vector: 42.01190307520001 N\n",
            "mass: 11.20317415338667 kg\n",
            "speed in the i direction: -37.4893752654051 ms-1\n",
            "speed in the j direction: -0.8926041729858358 ms-1\n"
          ],
          "name": "stdout"
        }
      ]
    }
  ]
}