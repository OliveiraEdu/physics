{
  "nbformat": 4,
  "nbformat_minor": 0,
  "metadata": {
    "colab": {
      "name": "2D vectors sum.ipynb",
      "provenance": [],
      "authorship_tag": "ABX9TyMysxeJtId1QJp2fwcF9Ucz",
      "include_colab_link": true
    },
    "kernelspec": {
      "name": "python3",
      "display_name": "Python 3"
    }
  },
  "cells": [
    {
      "cell_type": "markdown",
      "metadata": {
        "id": "view-in-github",
        "colab_type": "text"
      },
      "source": [
        "<a href=\"https://colab.research.google.com/github/OliveiraEdu/physics/blob/master/2D_vectors_sum.ipynb\" target=\"_parent\"><img src=\"https://colab.research.google.com/assets/colab-badge.svg\" alt=\"Open In Colab\"/></a>"
      ]
    },
    {
      "cell_type": "code",
      "metadata": {
        "id": "1yayrbdxj5_-",
        "outputId": "f4b2339c-b3e2-462d-a1b7-8c8b9f4384a4",
        "colab": {
          "base_uri": "https://localhost:8080/",
          "height": 34
        }
      },
      "source": [
        "import numpy as np\n",
        "\n",
        "#Adds two 2D vectors provided theirs respective modules and arcs in degrees\n",
        "\n",
        "#INPUT - Vector module\n",
        "modA = 4\n",
        "modB = 4\n",
        "\n",
        "#INPUT - Arc in degrees\n",
        "thetaAdegrees = 200\n",
        "thetaBdegrees = 230  \n",
        "\n",
        "#Converts arc from degrees to rad, numpy trigonometric functions uses rad only\n",
        "\n",
        "thetaA=thetaAdegrees*np.pi/180\n",
        "thetaB=thetaBdegrees*np.pi/180\n",
        "\n",
        "#Adds the components\n",
        "sumABi = modA*np.cos(thetaA)+modB*np.cos(thetaB)\n",
        "sumABj = modA*np.sin(thetaA)+modB*np.sin(thetaB)\n",
        "\n",
        "#Displays the result\n",
        "print (\"A+B = \", round(sumABi,1), \"i\", \"+\", round(sumABj,1), \"j\")\n"
      ],
      "execution_count": null,
      "outputs": [
        {
          "output_type": "stream",
          "text": [
            "A+B =  -6.3 i + -4.4 j\n"
          ],
          "name": "stdout"
        }
      ]
    }
  ]
}