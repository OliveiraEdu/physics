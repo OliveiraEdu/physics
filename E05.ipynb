{
  "nbformat": 4,
  "nbformat_minor": 0,
  "metadata": {
    "colab": {
      "name": "E05.ipynb",
      "provenance": [],
      "authorship_tag": "ABX9TyN0Hhlfap6JWg3f3HgT562n",
      "include_colab_link": true
    },
    "kernelspec": {
      "name": "python3",
      "display_name": "Python 3"
    }
  },
  "cells": [
    {
      "cell_type": "markdown",
      "metadata": {
        "id": "view-in-github",
        "colab_type": "text"
      },
      "source": [
        "<a href=\"https://colab.research.google.com/github/OliveiraEdu/physics/blob/master/E05.ipynb\" target=\"_parent\"><img src=\"https://colab.research.google.com/assets/colab-badge.svg\" alt=\"Open In Colab\"/></a>"
      ]
    },
    {
      "cell_type": "code",
      "metadata": {
        "id": "W9E6nKf6FZmZ",
        "outputId": "cfe9b4ec-8d34-4f14-c965-4c4fcfc4d63e",
        "colab": {
          "base_uri": "https://localhost:8080/",
          "height": 50
        }
      },
      "source": [
        "#Eduardo Oliveira\n",
        "#Física UFSC\n",
        "#FSC5101 - E05\n",
        "#20-10-2020\n",
        "\n",
        "import numpy as np\n",
        "from matplotlib import pyplot as plt\n",
        "\n",
        "r=15E3      #radius in meters\n",
        "T=33.085E-3 #period in seconds\n",
        "\n",
        "v=(2*np.pi*r)/T #speed\n",
        "\n",
        "#a=(v**2)/r     #acceleration, speed dependentt\n",
        "\n",
        "a=(4*(np.pi**2)*r)/T**2 #acceleration\n",
        "\n",
        "print (\"speed: \", round(v,3))\n",
        "print (\"acceleration: \", round(a,3))\n",
        "\n"
      ],
      "execution_count": 9,
      "outputs": [
        {
          "output_type": "stream",
          "text": [
            "speed:  2848655.874\n",
            "acceleration:  540989352.753\n"
          ],
          "name": "stdout"
        }
      ]
    }
  ]
}